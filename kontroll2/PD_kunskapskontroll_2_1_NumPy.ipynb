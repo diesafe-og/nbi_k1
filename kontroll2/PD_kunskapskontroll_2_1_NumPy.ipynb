{
 "cells": [
  {
   "cell_type": "markdown",
   "id": "dacf74e6",
   "metadata": {},
   "source": [
    "# NumPy"
   ]
  },
  {
   "cell_type": "markdown",
   "id": "01b2bf34",
   "metadata": {},
   "source": [
    "Read the links: https://numpy.org/doc/stable/user/quickstart.html  and https://numpy.org/doc/stable/user/basics.broadcasting.html  before solving the exercises. "
   ]
  },
  {
   "cell_type": "code",
   "execution_count": 3,
   "id": "1f79e4a6",
   "metadata": {},
   "outputs": [],
   "source": [
    "import numpy as np"
   ]
  },
  {
   "cell_type": "markdown",
   "id": "7dae6889",
   "metadata": {},
   "source": [
    "### Print out the dimension (number of axes), shape, size and the datatype of the matrix A."
   ]
  },
  {
   "cell_type": "code",
   "execution_count": 4,
   "id": "7b3678cd",
   "metadata": {},
   "outputs": [
    {
     "name": "stdout",
     "output_type": "stream",
     "text": [
      "Axes:  2 \n",
      "Shape:  (3, 5) \n",
      "Size:  15 \n",
      "Datatype:  int32\n"
     ]
    }
   ],
   "source": [
    "A = np.arange(1, 16).reshape(3,5)\n",
    "\n",
    "print(\"Axes: \", A.ndim, \"\\nShape: \", A.shape, \"\\nSize: \", A.size, \"\\nDatatype: \", A.dtype.name)\n"
   ]
  },
  {
   "cell_type": "code",
   "execution_count": null,
   "id": "31d39235",
   "metadata": {},
   "outputs": [],
   "source": [
    "\n"
   ]
  },
  {
   "cell_type": "markdown",
   "id": "e56d2a96",
   "metadata": {},
   "source": [
    "### Do the following computations on the matrices B and C: \n",
    "* Elementwise subtraction. \n",
    "* Elementwise multiplication. \n",
    "* Matrix multiplication (by default you should use the @ operator)."
   ]
  },
  {
   "cell_type": "code",
   "execution_count": 5,
   "id": "a7053fbb",
   "metadata": {},
   "outputs": [
    {
     "name": "stdout",
     "output_type": "stream",
     "text": [
      "[[1 2 3]\n",
      " [4 5 6]\n",
      " [7 8 9]]\n",
      "\n",
      "[[2. 2. 2.]\n",
      " [2. 2. 2.]\n",
      " [2. 2. 2.]]\n",
      "\n",
      "Elementwise subtraction: \n",
      "[[-1.  0.  1.]\n",
      " [ 2.  3.  4.]\n",
      " [ 5.  6.  7.]]\n",
      "\n",
      "Elementwise multiplication: \n",
      "[[ 2.  4.  6.]\n",
      " [ 8. 10. 12.]\n",
      " [14. 16. 18.]]\n",
      "\n",
      "Matrix multiplication: \n",
      "[[12. 12. 12.]\n",
      " [30. 30. 30.]\n",
      " [48. 48. 48.]]\n"
     ]
    }
   ],
   "source": [
    "B = np.arange(1, 10).reshape(3, 3)\n",
    "C = np.ones((3, 3))*2\n",
    "\n",
    "print(B)\n",
    "print()\n",
    "print(C)\n",
    "print(\"\\nElementwise subtraction: \")\n",
    "print(B-C)\n",
    "print(\"\\nElementwise multiplication: \")\n",
    "print(B*C)\n",
    "print(\"\\nMatrix multiplication: \")\n",
    "print(B@C)"
   ]
  },
  {
   "cell_type": "code",
   "execution_count": null,
   "id": "3cd794ae",
   "metadata": {},
   "outputs": [],
   "source": []
  },
  {
   "cell_type": "markdown",
   "id": "96030d53",
   "metadata": {},
   "source": [
    "### Do the following calculations on the matrix:\n",
    "* Exponentiate each number elementwise (use the np.exp function).\n",
    "\n",
    "* Calculate the minimum value in the whole matrix. \n",
    "* Calculcate the minimum value in each row. \n",
    "* Calculcate the minimum value in each column. \n",
    "\n",
    "\n",
    "* Find the index value for the minimum value in the whole matrix (hint: use np.argmin).\n",
    "* Find the index value for the minimum value in each row (hint: use np.argmin).\n",
    "\n",
    "\n",
    "* Calculate the sum for all elements.\n",
    "* Calculate the mean for each column. \n",
    "* Calculate the median for each column. "
   ]
  },
  {
   "cell_type": "code",
   "execution_count": 6,
   "id": "f8a9166b",
   "metadata": {},
   "outputs": [
    {
     "name": "stdout",
     "output_type": "stream",
     "text": [
      "[[1 2 3]\n",
      " [4 5 6]\n",
      " [7 8 9]]\n",
      "\n",
      "Exponentiated elementwise: \n",
      " [[2.71828183e+00 7.38905610e+00 2.00855369e+01]\n",
      " [5.45981500e+01 1.48413159e+02 4.03428793e+02]\n",
      " [1.09663316e+03 2.98095799e+03 8.10308393e+03]]\n",
      "\n",
      "Minimum value:  1\n",
      "\n",
      "Minimum value per row:  [1 4 7]\n",
      "\n",
      "Minimum value per column:  [1 2 3]\n",
      "\n",
      "Index for minimum value in whole matrix:  0\n",
      "\n",
      "Index for minimum value per row:  [0 0 0]\n",
      "\n",
      "Sum of all elements:  45\n",
      "\n",
      "Mean for each column:  [4. 5. 6.]\n",
      "\n",
      "Median for each column:  [4. 5. 6.]\n"
     ]
    }
   ],
   "source": [
    "B = np.arange(1, 10).reshape(3, 3)\n",
    "print(B)\n",
    "\n",
    "print(\"\\nExponentiated elementwise: \\n\", np.exp(B))\n",
    "\n",
    "print(\"\\nMinimum value: \", B.min())\n",
    "\n",
    "print(\"\\nMinimum value per row: \", B.min(axis=1))\n",
    "\n",
    "print(\"\\nMinimum value per column: \", B.min(axis=0))\n",
    "\n",
    "print(\"\\nIndex for minimum value in whole matrix: \", B.argmin())\n",
    "\n",
    "print(\"\\nIndex for minimum value per row: \", np.argmin(B,axis=1))\n",
    "\n",
    "print(\"\\nSum of all elements: \", B.sum())\n",
    "\n",
    "print(\"\\nMean for each column: \", B.mean(axis=0))\n",
    "\n",
    "print(\"\\nMedian for each column: \", np.median(B, axis=0))\n"
   ]
  },
  {
   "cell_type": "code",
   "execution_count": null,
   "id": "f03f24f7",
   "metadata": {},
   "outputs": [],
   "source": []
  },
  {
   "cell_type": "markdown",
   "id": "541eb7ba",
   "metadata": {},
   "source": [
    "### What does it mean when you provide fewer indices than axes when slicing? See example below."
   ]
  },
  {
   "cell_type": "code",
   "execution_count": 10,
   "id": "9c8abf56",
   "metadata": {},
   "outputs": [
    {
     "name": "stdout",
     "output_type": "stream",
     "text": [
      "[[ 1  2  3  4  5]\n",
      " [ 6  7  8  9 10]\n",
      " [11 12 13 14 15]]\n"
     ]
    }
   ],
   "source": [
    "print(A)"
   ]
  },
  {
   "cell_type": "code",
   "execution_count": 23,
   "id": "69415f7b",
   "metadata": {},
   "outputs": [
    {
     "data": {
      "text/plain": [
       "array([ 6,  7,  8,  9, 10])"
      ]
     },
     "execution_count": 23,
     "metadata": {},
     "output_type": "execute_result"
    }
   ],
   "source": [
    "A[1]\n"
   ]
  },
  {
   "cell_type": "markdown",
   "id": "6c53541b",
   "metadata": {},
   "source": [
    "**Answer:**"
   ]
  },
  {
   "cell_type": "code",
   "execution_count": null,
   "id": "de01e120",
   "metadata": {},
   "outputs": [],
   "source": [
    "The missing indice is assumed to be there, equalling ':' as in A[1,:]"
   ]
  },
  {
   "cell_type": "markdown",
   "id": "6652d0c9",
   "metadata": {},
   "source": [
    "### Iterating over multidimensional arrays is done with respect to the first axis, so in the example below we iterate trough the rows. If you would like to iterate through the array *elementwise*, how would you do that?"
   ]
  },
  {
   "cell_type": "code",
   "execution_count": null,
   "id": "9459864f",
   "metadata": {},
   "outputs": [],
   "source": [
    "A"
   ]
  },
  {
   "cell_type": "code",
   "execution_count": null,
   "id": "a671bb5a",
   "metadata": {},
   "outputs": [],
   "source": [
    "for i in A:\n",
    "    print(i)"
   ]
  },
  {
   "cell_type": "code",
   "execution_count": 24,
   "id": "f4e443a0",
   "metadata": {},
   "outputs": [
    {
     "name": "stdout",
     "output_type": "stream",
     "text": [
      "1\n",
      "2\n",
      "3\n",
      "4\n",
      "5\n",
      "6\n",
      "7\n",
      "8\n",
      "9\n",
      "10\n",
      "11\n",
      "12\n",
      "13\n",
      "14\n",
      "15\n"
     ]
    }
   ],
   "source": [
    "for i in A.flat:\n",
    "    print(i)"
   ]
  },
  {
   "cell_type": "markdown",
   "id": "608a2583",
   "metadata": {},
   "source": [
    "### Explain what the code below does. More specifically, b has three axes - what does this mean? "
   ]
  },
  {
   "cell_type": "code",
   "execution_count": 27,
   "id": "f8f9b26f",
   "metadata": {},
   "outputs": [
    {
     "name": "stdout",
     "output_type": "stream",
     "text": [
      "[ 0  1  2  3  4  5  6  7  8  9 10 11 12 13 14 15 16 17 18 19 20 21 22 23\n",
      " 24 25 26 27 28 29]\n",
      "\n",
      "[[[ 0  1  2  3  4]\n",
      "  [ 5  6  7  8  9]\n",
      "  [10 11 12 13 14]]\n",
      "\n",
      " [[15 16 17 18 19]\n",
      "  [20 21 22 23 24]\n",
      "  [25 26 27 28 29]]]\n"
     ]
    }
   ],
   "source": [
    "a = np.arange(30)\n",
    "b = a.reshape((2, 3, -1))\n",
    "print(a)\n",
    "print()\n",
    "\n",
    "print(b)"
   ]
  },
  {
   "cell_type": "code",
   "execution_count": null,
   "id": "863a45df",
   "metadata": {},
   "outputs": [],
   "source": [
    "A one dimensional array is created with 30 elements\n",
    "The array is reshaped into a three dimensional array with three arguments: 2 for no of matrices, 3 for no of rows per matrice, and -1 means the no of columns are automatically calculated."
   ]
  },
  {
   "cell_type": "code",
   "execution_count": null,
   "id": "eed38bbb-dd20-4d23-837f-679aa3d3a067",
   "metadata": {},
   "outputs": [],
   "source": []
  },
  {
   "cell_type": "markdown",
   "id": "421c9607-819a-401d-949a-97424436fe29",
   "metadata": {},
   "source": [
    "# For the exercises below, read the document *\"matematik_yh_antonio_vektorer_matriser_utdrag\"*\n",
    "# Solutions to the exercises and recorded videos can be found here: https://github.com/AntonioPrgomet/matematik_foer_yh\n",
    "\n",
    "# If you find the exercises below very hard, do not worry. Try your best, that will be enough. "
   ]
  },
  {
   "cell_type": "markdown",
   "id": "ab5933d5",
   "metadata": {},
   "source": [
    "### Broadcasting\n",
    "**Read the following link about broadcasting: https://numpy.org/doc/stable/user/basics.broadcasting.html#basics-broadcasting**"
   ]
  },
  {
   "cell_type": "markdown",
   "id": "039805ba",
   "metadata": {},
   "source": [
    "# Remark on Broadcasting when doing Linear Algebra calculations in Python. "
   ]
  },
  {
   "cell_type": "markdown",
   "id": "c4bcc147",
   "metadata": {},
   "source": [
    "### From the mathematical rules of matrix addition, the operation below (m1 + m2) does not make sense. The reason is that matrix addition requires two matrices of the same size. In Python however, it works due to broadcasting rules in NumPy. So you must be careful when doing Linear Algebra calculations in Python since they do not follow the \"mathematical rules\". This can however easily be handled by doing some simple programming, for example validating that two matrices have the same shape is easy if you for instance want to add two matrices. "
   ]
  },
  {
   "cell_type": "code",
   "execution_count": 28,
   "id": "1fd46778",
   "metadata": {},
   "outputs": [
    {
     "name": "stdout",
     "output_type": "stream",
     "text": [
      "[[2 3]\n",
      " [4 5]]\n"
     ]
    }
   ],
   "source": [
    "m1 = np.array([[1, 2], [3, 4]])\n",
    "m2 = np.array([1, 1])\n",
    "print(m1 + m2)"
   ]
  },
  {
   "cell_type": "markdown",
   "id": "047d6576",
   "metadata": {},
   "source": [
    "### The example below would also not be allowed if following the \"mathematical rules\" in Linear Algebra. But it works due to broadcasting in NumPy. "
   ]
  },
  {
   "cell_type": "code",
   "execution_count": 29,
   "id": "5e6ef2e4",
   "metadata": {},
   "outputs": [
    {
     "name": "stdout",
     "output_type": "stream",
     "text": [
      "[2 3 4]\n"
     ]
    }
   ],
   "source": [
    "v1 = np.array([1, 2, 3])\n",
    "print(v1 + 1)"
   ]
  },
  {
   "cell_type": "code",
   "execution_count": 30,
   "id": "e2cbae26",
   "metadata": {},
   "outputs": [
    {
     "name": "stdout",
     "output_type": "stream",
     "text": [
      "[[1 2]\n",
      " [3 4]]\n",
      "[2 2]\n"
     ]
    }
   ],
   "source": [
    "A = np.arange(1, 5).reshape(2,2)\n",
    "print(A)\n",
    "\n",
    "b = np.array([2, 2])\n",
    "print(b)"
   ]
  },
  {
   "cell_type": "markdown",
   "id": "722fd5cd",
   "metadata": {},
   "source": [
    "# Vector- and matrix algebra Exercises"
   ]
  },
  {
   "cell_type": "markdown",
   "id": "b63a3081-d976-4d9f-bfd0-a63917e79f7d",
   "metadata": {},
   "source": [
    "**Now you are going to create a function that can be reused every time you add or multiply matrices. The function is created so that we do the addition and multiplication according to the rules of vector- and matrix algebra.**\n",
    "\n",
    "**Create a function \"add_mult_matrices\" that takes two matrices as input arguments (validate that the input are of the type numpy.ndarray by using the isinstance function), a third argument that is either 'add' or 'multiply' that specifies if you want to add or multiply the matrices (validate that the third argument is either 'add' or 'multiply'). When doing matrix addition, validate that the matrices have the same size. When doing matrix multiplication, validate that the sizes conform (i.e. number of columns in the first matrix is equal to the number of rows in the second matrix).**"
   ]
  },
  {
   "cell_type": "code",
   "execution_count": null,
   "id": "3506f977-ac0a-473f-85bc-eec9f35dc498",
   "metadata": {},
   "outputs": [
    {
     "data": {
      "text/plain": [
       "('Element wise multiplication',\n",
       " array([[ 4, 10, 18],\n",
       "        [72, 21, 24],\n",
       "        [72, 21, 24]]),\n",
       " 'Matrix wise multiplication',\n",
       " array([[ 49,  20,  26],\n",
       "        [149,  79, 100],\n",
       "        [149,  79, 100]]))"
      ]
     },
     "execution_count": 132,
     "metadata": {},
     "output_type": "execute_result"
    }
   ],
   "source": [
    "#import numpy as np\n",
    "\n",
    "def add_mult_matrices(m1, m2, operation):\n",
    "    if isinstance(m1,np.ndarray) == False or isinstance(m2,np.ndarray) == False:\n",
    "        print(\"Please enter two matrices to operate on.\")\n",
    "        return\n",
    "    #print(m1.shape)\n",
    "    #print(m2.shape)\n",
    "    \n",
    "    match operation:\n",
    "        # Check if we are adding or multiplying\n",
    "        case \"add\":\n",
    "            # Operation is add, check that the matrices are the same size\n",
    "            if m1.shape == m2.shape:\n",
    "                return m1 + m2\n",
    "            else:\n",
    "                print(\"Please make sure the matrices are the same size when doing addition!\")\n",
    "        \n",
    "        case \"multiply\":\n",
    "            # Operation is multiply, check that matrix dimensions are valid:\n",
    "            # No of columns in m1 must equal no of rows in m2 (and vice versa)\n",
    "            if (m1.shape[1] != m2.shape[0]) or (m1.shape[0] != m2.shape[1]):\n",
    "                print(\"Please make sure to use valid matrix dimensions!\")\n",
    "                return\n",
    "            else:\n",
    "                return \"Element wise multiplication\", m1 * m2 ,\"Matrix wise multiplication\", m1 @ m2\n",
    "        case _:\n",
    "            print(\"Please enter 'add' or 'multiply' for operation.\")\n",
    "            return\n",
    "\n",
    "#testing\n",
    "m1 = np.array([[1, 2, 3], [8, 7, 6], [8, 7, 6]])\n",
    "m2 = np.array([[4, 5, 6], [9, 3, 4], [9, 3, 4]])\n",
    "#m1 = np.array([[1, 2, 3], [8, 7, 6]])\n",
    "#m2 = np.array([[4, 5, 6], [9, 3, 4]])\n",
    "#m1 = np.array([[1, 2], [8, 7]])\n",
    "#m2 = np.array([[4, 5], [9, 3]])\n",
    "\n",
    "#m2 = np.array([4,])\n",
    "#operation=\"add\"\n",
    "operation=\"multiply\"\n",
    "\n",
    "add_mult_matrices(m1,m2,operation)"
   ]
  },
  {
   "cell_type": "markdown",
   "id": "8dad82d0-2359-4dff-8f5b-a57d3e34103c",
   "metadata": {},
   "source": [
    "### Solve all the exercises in chapter 10.1 in the book \"Matematik för yrkeshögskolan\". "
   ]
  },
  {
   "cell_type": "code",
   "execution_count": null,
   "id": "89df88af-3668-4d98-a0a4-e6d92eea0f89",
   "metadata": {},
   "outputs": [],
   "source": [
    "10.1.1\n",
    "a) 1x2\n",
    "b) 5*(4,3) = (20,15)\n",
    "c) 3*(4,3) = (12,9)\n",
    "d) (20,15) + (12,9) = (32,24)\n",
    "e) (32,24)\n",
    "f) (16,12) - (4,3) = (12,9)\n",
    "g) x = (4)\n",
    "       (3)\n",
    "h) Nej, olika dimensioner\n",
    "i) ||x|| = sqrt(4^2 + 3^2) = 5"
   ]
  },
  {
   "cell_type": "markdown",
   "id": "75c98984-1f88-4df1-b850-d2466de444a5",
   "metadata": {},
   "source": [
    "### Solve all the exercises, except 10.2.4, in chapter 10.2 in the book \"Matematik för yrkeshögskolan\". "
   ]
  },
  {
   "cell_type": "code",
   "execution_count": null,
   "id": "65371610-16e1-48b2-b7fb-65e49002608a",
   "metadata": {},
   "outputs": [],
   "source": [
    "10.2.1:\n",
    " A= A2x3, B=2x3, C=2x2, D=2x2, E=2,1, I=2x2\n",
    "\n",
    "a) ej definierat\n",
    "b) ej definierat\n",
    "c) ej definierat\n",
    "d) 2D - 3C = [3 2]\n",
    "             [2 3]\n",
    "e) DT + 2D = [9 12]\n",
    "             [12 9]\n",
    "f) 2CT - 2DT = [-4 -4]\n",
    "               [-4 -4]\n",
    "g) AT - B = [5 2]\n",
    "            [3 4]\n",
    "h) ej definierat\n",
    "i) CD = [3 8]\n",
    "        [8 3]\n",
    "j) ej definierat\n",
    "k) CI = [1 0]\n",
    "        [0 1]\n",
    "l) ABT = [5 6]\n",
    "         [7 4]\n",
    "\n",
    "10.2.2:\n",
    " A = A2x3\n",
    " AAT = [29 26]\n",
    "       [26 42]\n",
    "\n",
    "10.2.3:\n",
    "A = 2x2\n",
    "B = 2x2\n",
    "c = 2x2\n",
    "\n",
    "Förstår inte vad som avses?"
   ]
  },
  {
   "cell_type": "markdown",
   "id": "6a4a524f",
   "metadata": {},
   "source": [
    "### Copies and Views\n",
    "Read the following link: https://numpy.org/doc/stable/user/basics.copies.html"
   ]
  },
  {
   "cell_type": "markdown",
   "id": "6cbbeaf7",
   "metadata": {},
   "source": [
    "**Basic indexing creates a view, How can you check if v1 and v2 is a view or copy? If you change the last element in v2 to 123, will the last element in v1 be changed? Why?**"
   ]
  },
  {
   "cell_type": "code",
   "execution_count": null,
   "id": "5b9ef4df",
   "metadata": {},
   "outputs": [
    {
     "name": "stdout",
     "output_type": "stream",
     "text": [
      "[0 1 2 3]\n",
      "[2 3]\n"
     ]
    },
    {
     "data": {
      "text/plain": [
       "array([0, 1, 2, 3])"
      ]
     },
     "execution_count": 38,
     "metadata": {},
     "output_type": "execute_result"
    }
   ],
   "source": [
    "v1 = np.arange(4)\n",
    "v2 = v1[-2:]\n",
    "print(v1)\n",
    "print(v2)\n",
    "\n",
    "v1.base  # None\n",
    "v2.base"
   ]
  },
  {
   "cell_type": "code",
   "execution_count": 33,
   "id": "d2440489",
   "metadata": {},
   "outputs": [
    {
     "name": "stdout",
     "output_type": "stream",
     "text": [
      "None\n",
      "[0 1 2 3]\n"
     ]
    }
   ],
   "source": [
    "# The base attribute of a view returns the original array while it returns None for a copy.\n",
    "print(v1.base)\n",
    "print(v2.base)"
   ]
  },
  {
   "cell_type": "code",
   "execution_count": 34,
   "id": "c8752807",
   "metadata": {},
   "outputs": [
    {
     "name": "stdout",
     "output_type": "stream",
     "text": [
      "[  0   1   2 123]\n",
      "[  2 123]\n"
     ]
    }
   ],
   "source": [
    "# The last element in v1 will be changed aswell since v2 is a view, meaning they share the same data buffer.\n",
    "v2[-1] = 123\n",
    "print(v1)\n",
    "print(v2)"
   ]
  },
  {
   "cell_type": "code",
   "execution_count": null,
   "id": "3dd68221",
   "metadata": {},
   "outputs": [],
   "source": []
  }
 ],
 "metadata": {
  "kernelspec": {
   "display_name": "base",
   "language": "python",
   "name": "python3"
  },
  "language_info": {
   "codemirror_mode": {
    "name": "ipython",
    "version": 3
   },
   "file_extension": ".py",
   "mimetype": "text/x-python",
   "name": "python",
   "nbconvert_exporter": "python",
   "pygments_lexer": "ipython3",
   "version": "3.12.7"
  }
 },
 "nbformat": 4,
 "nbformat_minor": 5
}
